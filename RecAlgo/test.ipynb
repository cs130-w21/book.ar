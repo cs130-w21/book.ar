{
 "cells": [
  {
   "cell_type": "code",
   "execution_count": null,
   "metadata": {},
   "outputs": [],
   "source": [
    "from models import BookRecommendation"
   ]
  },
  {
   "cell_type": "code",
   "execution_count": null,
   "metadata": {},
   "outputs": [],
   "source": [
    "'''\n",
    "test_book (list): [ISBN, bookTitle, bookAuthor, yearOfPublication, publisher]\n",
    "'''\n",
    "test_book1 = ['059035342X',\n",
    "             \"Harry Potter and the Sorcerer's Stone (Harry Potter (Paperback))\",\n",
    "             'J. K. Rowling',\n",
    "             1999,\n",
    "             'Arthur A. Levine Books']\n",
    "test_book2 = ['0385504209',\n",
    "             'The Da Vinci Code',\n",
    "             'Dan Brown',\n",
    "             2003,\n",
    "             'Doubleday']\n",
    "\n",
    "test_book3 = ['0446310786',\n",
    "             'To Kill a Mockingbird',\n",
    "             'Harper Lee',\n",
    "             1988,\n",
    "             'Little Brown &amp; Company']\n",
    "\n",
    "test_books = [test_book1, test_book2, test_book3]"
   ]
  },
  {
   "cell_type": "code",
   "execution_count": null,
   "metadata": {},
   "outputs": [],
   "source": [
    "input_model_name='book_rec_model'\n",
    "input_model_path='saved_models/'\n",
    "\n",
    "model = BookRecommendation()\n",
    "model.load_model(input_model_path, input_model_name)"
   ]
  },
  {
   "cell_type": "code",
   "execution_count": null,
   "metadata": {},
   "outputs": [],
   "source": [
    "model.make_recommendation(test_books)"
   ]
  },
  {
   "cell_type": "code",
   "execution_count": null,
   "metadata": {},
   "outputs": [],
   "source": []
  }
 ],
 "metadata": {
  "kernelspec": {
   "display_name": "Python 3",
   "language": "python",
   "name": "python3"
  },
  "language_info": {
   "codemirror_mode": {
    "name": "ipython",
    "version": 3
   },
   "file_extension": ".py",
   "mimetype": "text/x-python",
   "name": "python",
   "nbconvert_exporter": "python",
   "pygments_lexer": "ipython3",
   "version": "3.6.12"
  }
 },
 "nbformat": 4,
 "nbformat_minor": 2
}
