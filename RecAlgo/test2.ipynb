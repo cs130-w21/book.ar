{
 "cells": [
  {
   "cell_type": "code",
   "execution_count": 1,
   "metadata": {},
   "outputs": [],
   "source": [
    "from models import TFIDFBookRec\n",
    "from utils import Book\n",
    "import pandas as pd\n",
    "import numpy as np"
   ]
  },
  {
   "cell_type": "code",
   "execution_count": 2,
   "metadata": {},
   "outputs": [],
   "source": [
    "'''\n",
    "test_book: a Book instance, contains six attributes: [ISBN, title, author, year, publisher, imageUrl].\n",
    "        Missing some attributes is fine, but ISBN and title can't both be None\n",
    "'''\n",
    "test_book1 = ['059035342X',\n",
    "             \"Harry Potter and the Sorcerer's Stone (Harry Potter (Paperback))\",\n",
    "             'J. K. Rowling',\n",
    "             1999,\n",
    "             'Arthur A. Levine Books',\n",
    "             'http://images.amazon.com/images/P/059035342X.01.LZZZZZZZ.jpg']\n",
    "test_book2 = ['0385504209',\n",
    "             'The Da Vinci Code',\n",
    "             'Dan Brown',\n",
    "             None,\n",
    "             'Doubleday']\n",
    "test_book3 = [None,\n",
    "             'To Kill a Mockingbird',\n",
    "             'Harper Lee']\n",
    "\n",
    "test_books = [Book(*test_book1), Book(*test_book2), Book(*test_book3)]"
   ]
  },
  {
   "cell_type": "code",
   "execution_count": 3,
   "metadata": {},
   "outputs": [],
   "source": [
    "'''\n",
    "user_preferred_book: a Book instance chosen by user, will be used to set up user preference for the model\n",
    "'''\n",
    "\n",
    "user_preferred_book1 = ['0449005615',\n",
    "                        'Seabiscuit: An American Legend',\n",
    "                        'LAURA HILLENBRAND',\n",
    "                        2002,\n",
    "                        'Ballantine Books',\n",
    "                        'http://images.amazon.com/images/P/0449005615.01.LZZZZZZZ.jpg']\n",
    "\n",
    "user_preferred_book2 = ['0375726403',\n",
    "                         'Empire Falls',\n",
    "                         'Richard Russo',\n",
    "                         2002,\n",
    "                         'Vintage Books USA',\n",
    "                         'http://images.amazon.com/images/P/0375726403.01.LZZZZZZZ.jpg']\n",
    "user_preferred_book3 = ['0786868716',\n",
    "                         'The Five People You Meet in Heaven',\n",
    "                         'Mitch Albom',\n",
    "                         2003,\n",
    "                         'Hyperion',\n",
    "                         'http://images.amazon.com/images/P/0786868716.01.LZZZZZZZ.jpg']\n",
    "\n",
    "user_preferred_books = [Book(*user_preferred_book1), Book(*user_preferred_book2), Book(*user_preferred_book3)]"
   ]
  },
  {
   "cell_type": "code",
   "execution_count": 4,
   "metadata": {},
   "outputs": [],
   "source": [
    "# Counter-example, missing both ISBN and title\n",
    "# test_book4 = [None,\n",
    "#              None,\n",
    "#              'Harper Lee',\n",
    "#              1988,\n",
    "#              'Doubleday']\n",
    "# Book(*test_book4)"
   ]
  },
  {
   "cell_type": "code",
   "execution_count": 5,
   "metadata": {},
   "outputs": [],
   "source": [
    "# We have image url in the dataset as well, maybe useful\n",
    "# ImageUrl example\n",
    "# import IPython\n",
    "# IPython.display.Image(test_books[0].imageUrl, width = 250)"
   ]
  },
  {
   "cell_type": "code",
   "execution_count": 6,
   "metadata": {},
   "outputs": [],
   "source": [
    "# 1. create a model instance and load the trained state\n",
    "input_model_name='tfidf_model'\n",
    "input_model_path='saved_models/'\n",
    "model = TFIDFBookRec()\n",
    "model.load_model(input_model_path, input_model_name)"
   ]
  },
  {
   "cell_type": "code",
   "execution_count": 7,
   "metadata": {},
   "outputs": [],
   "source": [
    "# 2. set the user preference with a list of Book instances picked by the user\n",
    "model.set_user_preference(user_preferred_books)"
   ]
  },
  {
   "cell_type": "code",
   "execution_count": 8,
   "metadata": {},
   "outputs": [
    {
     "name": "stdout",
     "output_type": "stream",
     "text": [
      "Recommend book \"Harry Potter and the Sorcerer's Stone (Harry Potter (Paperback))\" with score 0.0947 among 3 books\n"
     ]
    }
   ],
   "source": [
    "# 3. pass in a list of Book instances for recommendation\n",
    "book = model.make_recommendation(test_books, verbose=True) # set verbose=False to set off the print"
   ]
  },
  {
   "cell_type": "code",
   "execution_count": 9,
   "metadata": {},
   "outputs": [
    {
     "data": {
      "text/plain": [
       "Book(\n",
       "ISBN: 059035342X\n",
       "Title: Harry Potter and the Sorcerer's Stone (Harry Potter (Paperback))\n",
       "Author: J. K. Rowling\n",
       "Year: 1999\n",
       "Publisher: Arthur A. Levine Books\n",
       "ImageUrl: http://images.amazon.com/images/P/059035342X.01.LZZZZZZZ.jpg\n",
       ")"
      ]
     },
     "execution_count": 9,
     "metadata": {},
     "output_type": "execute_result"
    }
   ],
   "source": [
    "book"
   ]
  },
  {
   "cell_type": "code",
   "execution_count": null,
   "metadata": {},
   "outputs": [],
   "source": []
  }
 ],
 "metadata": {
  "kernelspec": {
   "display_name": "Python 3",
   "language": "python",
   "name": "python3"
  },
  "language_info": {
   "codemirror_mode": {
    "name": "ipython",
    "version": 3
   },
   "file_extension": ".py",
   "mimetype": "text/x-python",
   "name": "python",
   "nbconvert_exporter": "python",
   "pygments_lexer": "ipython3",
   "version": "3.6.9"
  }
 },
 "nbformat": 4,
 "nbformat_minor": 2
}
